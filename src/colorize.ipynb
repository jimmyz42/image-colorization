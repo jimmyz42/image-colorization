{
 "cells": [
  {
   "cell_type": "code",
   "execution_count": 1,
   "metadata": {},
   "outputs": [],
   "source": [
    "import os\n",
    "import sys\n",
    "sys.path.append('../ideepcolor')\n",
    "from data import colorize_image as CI\n",
    "import caffe\n",
    "import skimage.io\n",
    "import skimage.color\n",
    "from skimage import img_as_float\n",
    "import matplotlib.pyplot as plt\n",
    "import numpy as np\n",
    "import segment\n",
    "import prepare_data\n",
    "\n",
    "%matplotlib inline"
   ]
  },
  {
   "cell_type": "code",
   "execution_count": 2,
   "metadata": {},
   "outputs": [],
   "source": [
    "orig_img_prefix = '../img/original/'\n",
    "bw_img_prefix = '../img/bw/'\n",
    "auto_img_prefix = '../img/auto/'\n",
    "res_img_prefix = '../img/result/'\n",
    "user_img_prefix = '../img/user/'\n",
    "seg_img_prefix = '../img/segment/'\n",
    "\n",
    "img_urls = prepare_data.generate_bw_images_and_list()"
   ]
  },
  {
   "cell_type": "code",
   "execution_count": 3,
   "metadata": {},
   "outputs": [],
   "source": [
    "def loadAutoModel():\n",
    "    return 'python ./colorize.py -img_in %s -img_out %s --gpu -1 --caffemodel ./models/colorization_release_v1.caffemodel'"
   ]
  },
  {
   "cell_type": "code",
   "execution_count": 4,
   "metadata": {},
   "outputs": [],
   "source": [
    "def loadUserModel():\n",
    "    os.chdir('../ideepcolor')\n",
    "    gpu_id = -1 # cpu\n",
    "    colorModel = CI.ColorizeImageCaffe(Xd=256)\n",
    "    colorModel.prep_net(gpu_id,'./models/reference_model/deploy_nodist.prototxt','./models/reference_model/model.caffemodel')\n",
    "    os.chdir('../src')\n",
    "    return colorModel"
   ]
  },
  {
   "cell_type": "code",
   "execution_count": 5,
   "metadata": {},
   "outputs": [],
   "source": [
    "# Does not return anything, just writes the colored image\n",
    "def auto_colorize(img_url, model):\n",
    "    os.chdir('../colorization')\n",
    "    os.system(model % (bw_img_prefix + img_url, auto_img_prefix + img_url))\n",
    "    temp_img = skimage.io.imread(auto_img_prefix + img_url)\n",
    "    skimage.io.imsave(auto_img_prefix + img_url, temp_img[:,:,:3]) # only want RGB channels, not A\n",
    "    os.chdir('../src')"
   ]
  },
  {
   "cell_type": "code",
   "execution_count": 6,
   "metadata": {},
   "outputs": [],
   "source": [
    "# returns a list of ((r,c), (L,a,b)) tuples for (row, col) points to color in LAB space\n",
    "# r and c are in [0, 1)\n",
    "def get_color_points(img_url):\n",
    "    return segment.get_color_points(img_url)"
   ]
  },
  {
   "cell_type": "code",
   "execution_count": 7,
   "metadata": {},
   "outputs": [],
   "source": [
    "# Does not return anything, writes the final result\n",
    "def user_driven_color(img_url, model, points):\n",
    "    model.load_image(bw_img_prefix + img_url) \n",
    "    mask = np.zeros((1,256,256))\n",
    "    input_ab = np.zeros((2,256,256))\n",
    "    \n",
    "    # user-driven without input points\n",
    "    img_out = model.net_forward(input_ab, mask)\n",
    "    img_out_fullres = model.get_img_fullres()\n",
    "    skimage.io.imsave(user_img_prefix + img_url, img_out_fullres)\n",
    "    \n",
    "    for ((r, c), (L, a, b)) in points:\n",
    "        r = int(r*256)\n",
    "        c = int(c*256)\n",
    "        mask[0, r, c] = 1\n",
    "        input_ab[0, r, c] = a\n",
    "        input_ab[1, r, c] = b\n",
    "    \n",
    "    # user-driven with input points (final result)\n",
    "    img_out = model.net_forward(input_ab, mask)\n",
    "    img_out_fullres = model.get_img_fullres()\n",
    "    skimage.io.imsave(res_img_prefix + img_url, img_out_fullres)"
   ]
  },
  {
   "cell_type": "code",
   "execution_count": null,
   "metadata": {},
   "outputs": [
    {
     "name": "stdout",
     "output_type": "stream",
     "text": [
      "ColorizeImageCaffe instantiated\n",
      "gpu_id = -1, net_path = ./models/reference_model/deploy_nodist.prototxt, model_path = ./models/reference_model/model.caffemodel\n"
     ]
    }
   ],
   "source": [
    "autoModel = loadAutoModel()\n",
    "userModel = loadUserModel()"
   ]
  },
  {
   "cell_type": "code",
   "execution_count": null,
   "metadata": {},
   "outputs": [
    {
     "name": "stderr",
     "output_type": "stream",
     "text": [
      "/usr/local/lib/python2.7/dist-packages/skimage/color/colorconv.py:985: UserWarning: Color data out of range: Z < 0 in 2 pixels\n",
      "  warn('Color data out of range: Z < 0 in %s pixels' % invalid[0].size)\n",
      "/usr/local/lib/python2.7/dist-packages/skimage/color/colorconv.py:985: UserWarning: Color data out of range: Z < 0 in 1 pixels\n",
      "  warn('Color data out of range: Z < 0 in %s pixels' % invalid[0].size)\n",
      "/usr/local/lib/python2.7/dist-packages/skimage/color/colorconv.py:985: UserWarning: Color data out of range: Z < 0 in 19 pixels\n",
      "  warn('Color data out of range: Z < 0 in %s pixels' % invalid[0].size)\n",
      "/usr/local/lib/python2.7/dist-packages/skimage/color/colorconv.py:985: UserWarning: Color data out of range: Z < 0 in 7 pixels\n",
      "  warn('Color data out of range: Z < 0 in %s pixels' % invalid[0].size)\n"
     ]
    }
   ],
   "source": [
    "for img_url in img_urls:\n",
    "    auto_colorize(img_url, autoModel)\n",
    "    points = get_color_points(img_url)\n",
    "    user_driven_color(img_url, userModel, points)"
   ]
  },
  {
   "cell_type": "code",
   "execution_count": null,
   "metadata": {},
   "outputs": [],
   "source": [
    "def show_images(img_url):\n",
    "    auto_image = skimage.io.imread(auto_img_prefix+img_url)\n",
    "    user_image = skimage.io.imread(user_img_prefix+img_url)\n",
    "    res_image = skimage.io.imread(res_img_prefix+img_url)\n",
    "    #bw_image = skimage.color.gray2rgb(skimage.io.imread(bw_img_prefix+img_url))\n",
    "    seg_image = skimage.io.imread(seg_img_prefix+img_url[:-3]+'png')\n",
    "    orig_image = skimage.io.imread(orig_img_prefix+img_url)\n",
    "    plt.imshow(np.concatenate((auto_image, user_image, res_image, seg_image, orig_image), axis=1))"
   ]
  },
  {
   "cell_type": "code",
   "execution_count": null,
   "metadata": {},
   "outputs": [],
   "source": [
    "plt.figure(figsize=(18, 3*len(img_urls)))\n",
    "for index, img_url in enumerate(img_urls):\n",
    "    plt.subplot(len(img_urls), 1, index+1)\n",
    "    show_images(img_url)\n",
    "    plt.axis('off')"
   ]
  },
  {
   "cell_type": "code",
   "execution_count": null,
   "metadata": {},
   "outputs": [],
   "source": []
  }
 ],
 "metadata": {
  "kernelspec": {
   "display_name": "Python 2",
   "language": "python",
   "name": "python2"
  },
  "language_info": {
   "codemirror_mode": {
    "name": "ipython",
    "version": 2
   },
   "file_extension": ".py",
   "mimetype": "text/x-python",
   "name": "python",
   "nbconvert_exporter": "python",
   "pygments_lexer": "ipython2",
   "version": "2.7.6"
  }
 },
 "nbformat": 4,
 "nbformat_minor": 2
}
